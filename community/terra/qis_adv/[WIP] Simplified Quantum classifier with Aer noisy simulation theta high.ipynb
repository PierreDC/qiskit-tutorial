{
 "cells": [
  {
   "cell_type": "markdown",
   "metadata": {},
   "source": [
    "<img src=\"../../../images/qiskit-heading.gif\" alt=\"Note: In order for images to show up in this jupyter notebook you need to select File => Trusted Notebook\" width=\"500 px\" align=\"left\">"
   ]
  },
  {
   "cell_type": "markdown",
   "metadata": {},
   "source": [
    "# Classifier\n",
    "\n",
    "\n",
    "***\n",
    "### Contributors\n",
    "\n"
   ]
  },
  {
   "cell_type": "markdown",
   "metadata": {},
   "source": [
    "### Introduction\n",
    "\n"
   ]
  },
  {
   "cell_type": "code",
   "execution_count": 1,
   "metadata": {},
   "outputs": [
    {
     "name": "stderr",
     "output_type": "stream",
     "text": [
      "C:\\Users\\decpi\\Anaconda3\\envs\\q7env\\lib\\site-packages\\marshmallow\\schema.py:364: ChangedInMarshmallow3Warning: strict=False is not recommended. In marshmallow 3.0, schemas will always be strict. See https://marshmallow.readthedocs.io/en/latest/upgrading.html#schemas-are-always-strict\n",
      "  ChangedInMarshmallow3Warning\n"
     ]
    }
   ],
   "source": [
    "#Import packages\n",
    "\n",
    "import numpy as np\n",
    "import matplotlib.pyplot as plt\n",
    "%matplotlib inline\n",
    "import time\n",
    "\n",
    "# import from qiskit\n",
    "from qiskit import QuantumCircuit, QuantumRegister, ClassicalRegister, execute, compile\n",
    "from qiskit.converters import qobj_to_circuits\n",
    "from qiskit import Aer, IBMQ\n",
    "from qiskit.providers.aer import noise\n",
    "\n",
    "# import tomography library\n",
    "import qiskit.tools.qcvv.tomography as tomo\n",
    "\n",
    "# useful additional packages \n",
    "from qiskit.tools.visualization import plot_state, plot_histogram        \n",
    "from qiskit.tools.qi.qi import state_fidelity, outer\n",
    "from qiskit.tools.qi.qi import outer\n",
    "from qiskit.quantum_info import state_fidelity\n",
    "from qiskit.tools.monitor import job_monitor, backend_overview\n",
    "from qiskit.providers.ibmq import least_busy"
   ]
  },
  {
   "cell_type": "code",
   "execution_count": 2,
   "metadata": {},
   "outputs": [
    {
     "data": {
      "text/plain": [
       "[<QasmSimulator('qasm_simulator') from AerProvider()>,\n",
       " <StatevectorSimulator('statevector_simulator') from AerProvider()>,\n",
       " <UnitarySimulator('unitary_simulator') from AerProvider()>]"
      ]
     },
     "execution_count": 2,
     "metadata": {},
     "output_type": "execute_result"
    }
   ],
   "source": [
    "Aer.backends() # No need for credentials for running the next cells"
   ]
  },
  {
   "cell_type": "markdown",
   "metadata": {},
   "source": [
    "### Circuit of FIG. 6"
   ]
  },
  {
   "cell_type": "code",
   "execution_count": 3,
   "metadata": {
    "scrolled": false
   },
   "outputs": [],
   "source": [
    "# Determine the job\n",
    "n = 3 #simplified\n",
    "\n",
    "# create a n-qubit quantum register\n",
    "qr = QuantumRegister(n)\n",
    "cr = ClassicalRegister(n)\n",
    "my_state = QuantumCircuit(qr, cr, name='my_state')\n",
    "a0 = 0\n",
    "m0 = 1\n",
    "i0 = 2\n",
    "\n",
    "theta = 2.152 # for x~''\n",
    "#theta = 1.518 # for x~'\n",
    "\n",
    "#A        \n",
    "my_state.h(qr[a0])\n",
    "my_state.h(qr[m0])\n",
    "#B\n",
    "#my_state.cx(qr[a0],qr[i0])\n",
    "my_state.cu3(2*theta,0,0,qr[a0],qr[i0])\n",
    "#my_state.cx(qr[a0],qr[i0])\n",
    "#my_state.ry(theta,qr[i0])\n",
    "my_state.x(qr[a0])\n",
    "#C\n",
    "my_state.ccx(qr[a0],qr[m0],qr[i0])\n",
    "my_state.x(qr[m0])\n",
    "#D\n",
    "my_state.ccx(qr[a0],qr[m0],qr[i0])\n",
    "my_state.cx(qr[m0],qr[i0])\n",
    "my_state.ry(0.331,qr[i0])\n",
    "my_state.cx(qr[m0],qr[i0])\n",
    "my_state.ry(-0.331,qr[i0])\n",
    "my_state.ccx(qr[a0],qr[m0],qr[i0])\n",
    "my_state.cx(qr[m0],qr[i0])\n",
    "my_state.ry(-0.331,qr[i0])\n",
    "my_state.cx(qr[m0],qr[i0])\n",
    "my_state.ry(0.331,qr[i0])\n",
    "#E\n",
    "#my_state.swap(qr[i0],qr[c0]) # with swap\n",
    "#my_state.cx(qr[m0],qr[i0]) # with swap\n",
    "#my_state.cx(qr[m0],qr[c0]) # without swap\n",
    "#F\n",
    "my_state.h(qr[a0])\n",
    "\n",
    "# Measurement circuit\n",
    "measuring = QuantumCircuit(qr, cr, name='measuring')\n",
    "measuring.measure(qr[a0] , cr[a0])\n",
    "#measuring.measure(qr[i0] , cr[i0]) # with swap\n",
    "#measuring.measure(qr[c0] , cr[c0]) # without swap\n",
    "measuring.measure(qr[m0] , cr[m0]) #simplified\n",
    "test = my_state+measuring"
   ]
  },
  {
   "cell_type": "markdown",
   "metadata": {},
   "source": [
    "### Test the algorithm using a noise free simulation"
   ]
  },
  {
   "cell_type": "code",
   "execution_count": 4,
   "metadata": {},
   "outputs": [
    {
     "data": {
      "application/vnd.jupyter.widget-view+json": {
       "model_id": "c089da57dd26407886d2d28f0616aa39",
       "version_major": 2,
       "version_minor": 0
      },
      "text/plain": [
       "HTML(value=\"<p style='font-size:16px;'>Job Status: job is actively running </p>\")"
      ]
     },
     "metadata": {},
     "output_type": "display_data"
    },
    {
     "name": "stdout",
     "output_type": "stream",
     "text": [
      "Date (DMY): 02/02/2019 21:35:35\n",
      "{'011': 1849, '000': 3799, '001': 315, '010': 2229}\n"
     ]
    },
    {
     "data": {
      "image/png": "[encoded data removed]",
      "text/plain": [
       "<Figure size 504x360 with 1 Axes>"
      ]
     },
     "execution_count": 4,
     "metadata": {},
     "output_type": "execute_result"
    }
   ],
   "source": [
    "# Test circuit \"my_state\" : Noise free model on simulator\n",
    "backend_sim = Aer.get_backend('qasm_simulator')\n",
    "shots = 8192\n",
    "job_noisefree = execute(test, backend_sim, shots=shots, max_credits=5)\n",
    "job_monitor(job_noisefree)\n",
    "\n",
    "noisefree_count = job_noisefree.result().get_counts(test)\n",
    "time_exp = time.strftime('%d/%m/%Y %H:%M:%S')\n",
    "print(\"Date (DMY):\", time_exp)\n",
    "print(noisefree_count)\n",
    "plot_histogram(noisefree_count, color=['purple'], \n",
    "               title=str(n) + '- qubit classifier, noise free simulation, theta =' +str(theta) )"
   ]
  },
  {
   "cell_type": "code",
   "execution_count": 5,
   "metadata": {},
   "outputs": [
    {
     "name": "stdout",
     "output_type": "stream",
     "text": [
      "OPENQASM 2.0;\n",
      "include \"qelib1.inc\";\n",
      "qreg q0[3];\n",
      "creg c0[3];\n",
      "h q0[0];\n",
      "h q0[1];\n",
      "cu3(4.30400000000000,0,0) q0[0],q0[2];\n",
      "x q0[0];\n",
      "ccx q0[0],q0[1],q0[2];\n",
      "x q0[1];\n",
      "ccx q0[0],q0[1],q0[2];\n",
      "cx q0[1],q0[2];\n",
      "ry(0.331000000000000) q0[2];\n",
      "cx q0[1],q0[2];\n",
      "ry(-0.331000000000000) q0[2];\n",
      "ccx q0[0],q0[1],q0[2];\n",
      "cx q0[1],q0[2];\n",
      "ry(-0.331000000000000) q0[2];\n",
      "cx q0[1],q0[2];\n",
      "ry(0.331000000000000) q0[2];\n",
      "h q0[0];\n",
      "measure q0[0] -> c0[0];\n",
      "measure q0[1] -> c0[1];\n",
      "\n"
     ]
    }
   ],
   "source": [
    "# QASM from test\n",
    "QASM_source = test.qasm()\n",
    "print(QASM_source)"
   ]
  },
  {
   "cell_type": "code",
   "execution_count": 6,
   "metadata": {
    "scrolled": true
   },
   "outputs": [
    {
     "data": {
      "image/png": "[encoded data removed]",
      "text/plain": [
       "<Figure size 1324.4x258.86 with 1 Axes>"
      ]
     },
     "execution_count": 6,
     "metadata": {},
     "output_type": "execute_result"
    }
   ],
   "source": [
    "# Draw the circuit\n",
    "my_style = {'latexdrawerstyle': False, 'cregbundle': True, 'fold': 30, 'showindex': True}\n",
    "test.draw(output='mpl', style=my_style)"
   ]
  },
  {
   "cell_type": "markdown",
   "metadata": {},
   "source": [
    "### State tomography and quantum fidelity in noise free device simulation"
   ]
  },
  {
   "cell_type": "code",
   "execution_count": 7,
   "metadata": {},
   "outputs": [
    {
     "data": {
      "application/vnd.jupyter.widget-view+json": {
       "model_id": "c0461d11841344f7adad5d833e9854de",
       "version_major": 2,
       "version_minor": 0
      },
      "text/plain": [
       "HTML(value=\"<p style='font-size:16px;'>Job Status: job is actively running </p>\")"
      ]
     },
     "metadata": {},
     "output_type": "display_data"
    },
    {
     "name": "stdout",
     "output_type": "stream",
     "text": [
      "Date (DMY): 02/02/2019 21:36:34\n",
      "Tomography 3-qubit classifier on qasm_simulator , shots: 1024 , mode: noise free simulation theta: 2.152\n",
      "Fidelity with theoretical ideal state\n",
      "F = 0.9922355276220067\n"
     ]
    }
   ],
   "source": [
    "# Execute state tomography using noise free quantum device simulation\n",
    "\n",
    "# obtain the final state vector\n",
    "backend_stvct = Aer.get_backend('statevector_simulator')\n",
    "job = execute(my_state, backend_stvct)\n",
    "my_state_psi = job.result().get_statevector(my_state)\n",
    "\n",
    "# construct state tomography set for measurement of qubits [0, ..., n-1] in the Pauli basis\n",
    "qubit_set = []\n",
    "for i in range(0,n) :\n",
    "    qubit_set.append(i)\n",
    "\n",
    "my_state_tomo_set = tomo.state_tomography_set(qubit_set) # default value for meas_basis ='Pauli'.\n",
    "\n",
    "# add the state tomography measurement circuits to the Quantum Program\n",
    "my_state_tomo_circuits = tomo.create_tomography_circuits(my_state, qr, cr, my_state_tomo_set)\n",
    "\n",
    "backend_tomo = Aer.get_backend('qasm_simulator') # for simulation\n",
    "\n",
    "# take 1024 shots for each measurement basis\n",
    "# note: reduce this number for larger number of qubits\n",
    "shots = 1024\n",
    "mode = \"noise free simulation\"\n",
    "my_state_job = execute(my_state_tomo_circuits, backend_tomo, shots=shots)\n",
    "job_monitor(my_state_job)\n",
    "my_state_tomo_result = my_state_job.result()    \n",
    "        \n",
    "# extract tomography data from results\n",
    "my_state_tomo_data = tomo.tomography_data(my_state_tomo_result, my_state.name, my_state_tomo_set)\n",
    "\n",
    "# Quantum fidelity\n",
    "\n",
    "# reconstruct experimentally measured density matrix \n",
    "rho_fit = tomo.fit_tomography_data(my_state_tomo_data)\n",
    "\n",
    "# calculate fidelity of fitted state:\n",
    "time_exp = time.strftime('%d/%m/%Y %H:%M:%S')\n",
    "print(\"Date (DMY):\", time_exp)\n",
    "print('Tomography',str(n)+'-qubit classifier on', backend_tomo,\n",
    "      \", shots:\", shots, \", mode:\", mode, \"theta:\", theta)\n",
    "F_fit = state_fidelity(rho_fit, my_state_psi)\n",
    "print('Fidelity with theoretical ideal state')\n",
    "print('F =', F_fit)"
   ]
  },
  {
   "cell_type": "markdown",
   "metadata": {},
   "source": [
    "### From here, you need credentials:"
   ]
  },
  {
   "cell_type": "code",
   "execution_count": 8,
   "metadata": {},
   "outputs": [],
   "source": [
    "IBMQ.load_accounts()"
   ]
  },
  {
   "cell_type": "code",
   "execution_count": 9,
   "metadata": {},
   "outputs": [
    {
     "name": "stdout",
     "output_type": "stream",
     "text": [
      "ibmq_16_melbourne           ibmqx4\n",
      "-----------------           ------\n",
      "Num. Qubits:  14            Num. Qubits:  5\n",
      "Pending Jobs: 2             Pending Jobs: 3\n",
      "Least busy:   True          Least busy:   False\n",
      "Operational:  True          Operational:  True\n",
      "Avg. T1:      52.8          Avg. T1:      52.3\n",
      "Avg. T2:      66.6          Avg. T2:      18.5\n",
      "\n",
      "\n",
      "\n"
     ]
    }
   ],
   "source": [
    "backend_overview() # you may skip running this cell if you want"
   ]
  },
  {
   "cell_type": "code",
   "execution_count": 13,
   "metadata": {},
   "outputs": [
    {
     "name": "stdout",
     "output_type": "stream",
     "text": [
      "ibmqx4\n"
     ]
    }
   ],
   "source": [
    "backend_real = least_busy(IBMQ.backends(operational=True, simulator=False))\n",
    "backen_real = 'ibmqx4' # forcing ibmqx4\n",
    "print(backend_real)"
   ]
  },
  {
   "cell_type": "markdown",
   "metadata": {},
   "source": [
    "### Prepare noise simulation corresponding to a given quantum device"
   ]
  },
  {
   "cell_type": "code",
   "execution_count": 14,
   "metadata": {},
   "outputs": [
    {
     "name": "stdout",
     "output_type": "stream",
     "text": [
      "device:  ibmqx4\n",
      "noise model prepared for ibmqx4\n"
     ]
    }
   ],
   "source": [
    "# Prepare device noise simulation (DNS)\n",
    "\n",
    "device = backend_real\n",
    "print(\"device: \", device)\n",
    "properties = device.properties()\n",
    "coupling_map = device.configuration().coupling_map\n",
    "prepared = False\n",
    "if device.name() == 'ibmq_16_melbourne' :\n",
    "    gate_times = [\n",
    "        ('u1', None, 0), ('u2', None, 100), ('u3', None, 200),\n",
    "        ('cx', [1, 0], 678), ('cx', [1, 2], 547), ('cx', [2, 3], 721),\n",
    "        ('cx', [4, 3], 733), ('cx', [4, 10], 721), ('cx', [5, 4], 800),\n",
    "        ('cx', [5, 6], 800), ('cx', [5, 9], 895), ('cx', [6, 8], 895),\n",
    "        ('cx', [7, 8], 640), ('cx', [9, 8], 895), ('cx', [9, 10], 800),\n",
    "        ('cx', [11, 10], 721), ('cx', [11, 3], 634), ('cx', [12, 2], 773),\n",
    "        ('cx', [13, 1], 2286), ('cx', [13, 12], 1504), ('cx', [], 800)\n",
    "    ]\n",
    "    prepared = True\n",
    "    \n",
    "elif device.name() == 'ibmqx4' :\n",
    "    gate_times = [\n",
    "        ('u1', None, 0), ('u2', None, 60), ('u3', None, 120),\n",
    "        ('cx', [1, 0], 340), ('cx', [2, 0], 424), ('cx', [2, 1], 520),\n",
    "        ('cx', [3, 2], 620), ('cx', [3, 4], 420), ('cx', [4, 2], 920)    \n",
    "    ]\n",
    "    prepared = True\n",
    "\n",
    "else :\n",
    "    print(\"No gate times yet defined in this notebook for: \", device)\n",
    "        \n",
    "if prepared :\n",
    "    # Construct the noise model from backend properties and custom gate times\n",
    "    noise_model = noise.device.basic_device_noise_model(properties, gate_times=gate_times)\n",
    "\n",
    "    # Get the basis gates for the noise model\n",
    "    basis_gates = noise_model.basis_gates\n",
    "    \n",
    "    print(\"noise model prepared for\", device)\n"
   ]
  },
  {
   "cell_type": "markdown",
   "metadata": {},
   "source": [
    "### Run the algorithm using device noise simulation (DNS)"
   ]
  },
  {
   "cell_type": "code",
   "execution_count": 15,
   "metadata": {},
   "outputs": [
    {
     "data": {
      "application/vnd.jupyter.widget-view+json": {
       "model_id": "30374b54934c4e88abd77601f33ce9c4",
       "version_major": 2,
       "version_minor": 0
      },
      "text/plain": [
       "HTML(value=\"<p style='font-size:16px;'>Job Status: job is actively running </p>\")"
      ]
     },
     "metadata": {},
     "output_type": "display_data"
    },
    {
     "name": "stdout",
     "output_type": "stream",
     "text": [
      "<bound method AerJob.status of <qiskit.providers.aer.aerjob.AerJob object at 0x0000013167361400>>\n",
      "Date (DMY): 02/02/2019 21:38:55\n",
      "{'011': 252, '000': 347, '001': 150, '010': 275}\n"
     ]
    },
    {
     "data": {
      "image/png": "[encoded data removed]",
      "text/plain": [
       "<Figure size 504x360 with 1 Axes>"
      ]
     },
     "execution_count": 15,
     "metadata": {},
     "output_type": "execute_result"
    }
   ],
   "source": [
    "# Execute test using device noise simulation (DNS)\n",
    "\n",
    "backend_noise = Aer.get_backend('qasm_simulator') # for simulation (DNS)\n",
    "\n",
    "shots = 1024\n",
    "mode = \"DNS\"\n",
    "job_noise = execute(test, backend_noise, \n",
    "                       noise_model=noise_model,\n",
    "                       coupling_map=coupling_map,\n",
    "                       basis_gates=basis_gates)\n",
    "job_monitor(job_noise)\n",
    "\n",
    "print(job_noise.status)\n",
    "time_exp = time.strftime('%d/%m/%Y %H:%M:%S')\n",
    "print(\"Date (DMY):\", time_exp)\n",
    "noisy_count = job_noise.result().get_counts(test) \n",
    "print(noisy_count)\n",
    "plot_histogram(noisy_count, color=['cyan'],\n",
    "               title= str(n) + '- qubit classifier, ' + mode + ': {}, '.format(device.name()) + \"theta =\" +str(theta))"
   ]
  },
  {
   "cell_type": "markdown",
   "metadata": {},
   "source": [
    "### State tomography and quantum fidelity in device noise simulation (DNS)"
   ]
  },
  {
   "cell_type": "code",
   "execution_count": 16,
   "metadata": {},
   "outputs": [
    {
     "data": {
      "application/vnd.jupyter.widget-view+json": {
       "model_id": "6bf4c030909f4daba462797ae340ccf8",
       "version_major": 2,
       "version_minor": 0
      },
      "text/plain": [
       "HTML(value=\"<p style='font-size:16px;'>Job Status: job is actively running </p>\")"
      ]
     },
     "metadata": {},
     "output_type": "display_data"
    },
    {
     "name": "stdout",
     "output_type": "stream",
     "text": [
      "Date (DMY): 02/02/2019 21:40:54\n",
      "Tomography 3-qubit classifier on qasm_simulator , shots: 1024 , mode: DNS of ibmqx4 theta: 2.152\n",
      "Fidelity with theoretical ideal state\n",
      "F = 0.47270741477672734\n"
     ]
    }
   ],
   "source": [
    "# Execute state tomography using device noise simulation (DNS)\n",
    "\n",
    "# obtain the final state vector\n",
    "backend_stvct = Aer.get_backend('statevector_simulator')\n",
    "job = execute(my_state, backend_stvct)\n",
    "my_state_psi = job.result().get_statevector(my_state)\n",
    "\n",
    "# construct state tomography set for measurement of qubits [0, ..., n-1] in the Pauli basis\n",
    "qubit_set = []\n",
    "for i in range(0,n) :\n",
    "    qubit_set.append(i)\n",
    "my_state_tomo_set = tomo.state_tomography_set(qubit_set) # default value for meas_basis ='Pauli'.    \n",
    "\n",
    "# add the state tomography measurement circuits to the Quantum Program\n",
    "my_state_tomo_circuits = tomo.create_tomography_circuits(my_state, qr, cr, my_state_tomo_set)\n",
    "\n",
    "backend_tomo = Aer.get_backend('qasm_simulator') # for simulation\n",
    "\n",
    "# take 1024 shots for each measurement basis\n",
    "# note: reduce this number for larger number of qubits\n",
    "shots = 1024\n",
    "mode = \"DNS\"\n",
    "my_state_job = execute(my_state_tomo_circuits, backend_tomo, \n",
    "                               noise_model=noise_model,\n",
    "                               coupling_map=coupling_map,\n",
    "                               basis_gates=basis_gates)\n",
    "job_monitor(my_state_job)\n",
    "my_state_tomo_result = my_state_job.result()    \n",
    "\n",
    "# extract tomography data from results\n",
    "my_state_tomo_data = tomo.tomography_data(my_state_tomo_result, my_state.name, my_state_tomo_set)\n",
    "\n",
    "# Quantum fidelity\n",
    "\n",
    "# reconstruct experimentally measured density matrix \n",
    "rho_fit = tomo.fit_tomography_data(my_state_tomo_data)\n",
    "\n",
    "# calculate fidelity of fitted state:\n",
    "time_exp = time.strftime('%d/%m/%Y %H:%M:%S')\n",
    "print(\"Date (DMY):\", time_exp)\n",
    "print('Tomography',str(n)+'-qubit classifier on', backend_tomo,\n",
    "      \", shots:\", shots, \", mode:\", mode, \"of\", device, \"theta:\", theta)\n",
    "F_fit = state_fidelity(rho_fit, my_state_psi)\n",
    "print('Fidelity with theoretical ideal state')\n",
    "print('F =', F_fit)"
   ]
  },
  {
   "cell_type": "markdown",
   "metadata": {},
   "source": [
    "### Run the algorithm on superconducting quantum computing device (SQC)"
   ]
  },
  {
   "cell_type": "code",
   "execution_count": 17,
   "metadata": {},
   "outputs": [
    {
     "data": {
      "application/vnd.jupyter.widget-view+json": {
       "model_id": "874c521c43e548348dce828102b3c8a7",
       "version_major": 2,
       "version_minor": 0
      },
      "text/plain": [
       "HTML(value=\"<p style='font-size:16px;'>Job Status: job is being initialized </p>\")"
      ]
     },
     "metadata": {},
     "output_type": "display_data"
    },
    {
     "name": "stdout",
     "output_type": "stream",
     "text": [
      "<bound method IBMQJob.status of <qiskit.providers.ibmq.ibmqjob.IBMQJob object at 0x000001316754CEB8>>\n",
      "{'011': 215, '000': 358, '001': 230, '010': 221}\n"
     ]
    },
    {
     "data": {
      "image/png": "[encoded data removed]",
      "text/plain": [
       "<Figure size 504x360 with 1 Axes>"
      ]
     },
     "execution_count": 17,
     "metadata": {},
     "output_type": "execute_result"
    }
   ],
   "source": [
    "# Execute test using superconducting quantum computing device (SQC)\n",
    "\n",
    "#Choose the backend\n",
    "#backend_noise = Aer.get_backend('qasm_simulator') # for optional test before final experiment \n",
    "backend_noise = device # for least busy SQC device\n",
    "\n",
    "# Execute on SQC and get counts\n",
    "shots = 1024\n",
    "if backend_noise.name() == \"qasm_simulator\" : # optional test before final experiment \n",
    "    mode = \"DNS\"\n",
    "    job_noise = execute(test, backend_noise, \n",
    "                           noise_model=noise_model,\n",
    "                           coupling_map=coupling_map,\n",
    "                           basis_gates=basis_gates)\n",
    "else: # final experiment on real device\n",
    "    mode = \"SQC\"\n",
    "    job_noise = execute(test, backend_noise)\n",
    "    job_monitor(job_noise)\n",
    "\n",
    "print(job_noise.status)\n",
    "time_exp = time.strftime('%d/%m/%Y %H:%M:%S')\n",
    "noisy_count = job_noise.result().get_counts(test) \n",
    "print(noisy_count)\n",
    "plot_histogram(noisy_count, color=['orange'], \n",
    "               title= str(n) + '- qubit classifier, ' + mode + ': {}, '.format(device.name()) + \"theta =\" +str(theta))"
   ]
  },
  {
   "cell_type": "markdown",
   "metadata": {},
   "source": [
    "### State tomography and quantum fidelity on superconducting quantum computing device (SQC)"
   ]
  },
  {
   "cell_type": "code",
   "execution_count": 17,
   "metadata": {
    "collapsed": true
   },
   "outputs": [
    {
     "data": {
      "application/vnd.jupyter.widget-view+json": {
       "model_id": "fd27b15ecf8f4d7f96cf36d4011b1092",
       "version_major": 2,
       "version_minor": 0
      },
      "text/plain": [
       "HTML(value=\"<p style='font-size:16px;'>Job Status: job is being initialized </p>\")"
      ]
     },
     "metadata": {},
     "output_type": "display_data"
    },
    {
     "data": {
      "application/vnd.jupyter.widget-view+json": {
       "model_id": "c0a907c2437c411dbc037a01fd3cf0a5",
       "version_major": 2,
       "version_minor": 0
      },
      "text/plain": [
       "HTML(value=\"<p style='font-size:16px;'>Job Status: job is being initialized </p>\")"
      ]
     },
     "metadata": {},
     "output_type": "display_data"
    },
    {
     "name": "stderr",
     "output_type": "stream",
     "text": [
      "C:\\Users\\decpi\\Anaconda3\\envs\\q7env\\lib\\site-packages\\qiskit\\result\\result.py:267: DeprecationWarning: Result addition is deprecated and will be removed in version 0.7+.\n",
      "  'version 0.7+.', DeprecationWarning)\n",
      "C:\\Users\\decpi\\Anaconda3\\envs\\q7env\\lib\\site-packages\\qiskit\\result\\result.py:245: DeprecationWarning: Result addition is deprecated and will be removed in version 0.7+.\n",
      "  'version 0.7+.', DeprecationWarning)\n"
     ]
    },
    {
     "data": {
      "application/vnd.jupyter.widget-view+json": {
       "model_id": "53f5b64f484143e298a5d7e72df4918e",
       "version_major": 2,
       "version_minor": 0
      },
      "text/plain": [
       "HTML(value=\"<p style='font-size:16px;'>Job Status: job is being initialized </p>\")"
      ]
     },
     "metadata": {},
     "output_type": "display_data"
    },
    {
     "name": "stderr",
     "output_type": "stream",
     "text": [
      "C:\\Users\\decpi\\Anaconda3\\envs\\q7env\\lib\\site-packages\\qiskit\\result\\result.py:267: DeprecationWarning: Result addition is deprecated and will be removed in version 0.7+.\n",
      "  'version 0.7+.', DeprecationWarning)\n",
      "C:\\Users\\decpi\\Anaconda3\\envs\\q7env\\lib\\site-packages\\qiskit\\result\\result.py:245: DeprecationWarning: Result addition is deprecated and will be removed in version 0.7+.\n",
      "  'version 0.7+.', DeprecationWarning)\n"
     ]
    },
    {
     "name": "stdout",
     "output_type": "stream",
     "text": [
      "Date (DMY): 01/02/2019 19:16:32\n"
     ]
    },
    {
     "ename": "NameError",
     "evalue": "name 'method' is not defined",
     "output_type": "error",
     "traceback": [
      "\u001b[1;31m---------------------------------------------------------------------------\u001b[0m",
      "\u001b[1;31mNameError\u001b[0m                                 Traceback (most recent call last)",
      "\u001b[1;32m<ipython-input-17-977533c167ed>\u001b[0m in \u001b[0;36m<module>\u001b[1;34m\u001b[0m\n\u001b[0;32m     64\u001b[0m \u001b[0mprint\u001b[0m\u001b[1;33m(\u001b[0m\u001b[1;34m\"Date (DMY):\"\u001b[0m\u001b[1;33m,\u001b[0m \u001b[0mtime_exp\u001b[0m\u001b[1;33m)\u001b[0m\u001b[1;33m\u001b[0m\u001b[1;33m\u001b[0m\u001b[0m\n\u001b[0;32m     65\u001b[0m print('Tomography',str(n)+'-qubit classifier on', backend_tomo,\n\u001b[1;32m---> 66\u001b[1;33m       \", shots:\", shots, \", method:\", method, \", mode:\", mode, device, \"theta:\", theta)\n\u001b[0m\u001b[0;32m     67\u001b[0m \u001b[0mF_fit\u001b[0m \u001b[1;33m=\u001b[0m \u001b[0mstate_fidelity\u001b[0m\u001b[1;33m(\u001b[0m\u001b[0mrho_fit\u001b[0m\u001b[1;33m,\u001b[0m \u001b[0mmy_state_psi\u001b[0m\u001b[1;33m)\u001b[0m\u001b[1;33m\u001b[0m\u001b[1;33m\u001b[0m\u001b[0m\n\u001b[0;32m     68\u001b[0m \u001b[0mprint\u001b[0m\u001b[1;33m(\u001b[0m\u001b[1;34m'Fidelity with theoretical ideal state'\u001b[0m\u001b[1;33m)\u001b[0m\u001b[1;33m\u001b[0m\u001b[1;33m\u001b[0m\u001b[0m\n",
      "\u001b[1;31mNameError\u001b[0m: name 'method' is not defined"
     ]
    }
   ],
   "source": [
    "# Execute state tomography on superconducting quantum computing device (SQC)\n",
    "\n",
    "# obtain the final state vector\n",
    "backend_stvct = Aer.get_backend('statevector_simulator')\n",
    "job = execute(my_state, backend_stvct)\n",
    "my_state_psi = job.result().get_statevector(my_state)\n",
    "\n",
    "# construct state tomography set for measurement of qubits [0, ..., n-1] in the Pauli basis\n",
    "qubit_set = []\n",
    "for i in range(0,n) :\n",
    "    qubit_set.append(i)\n",
    "\n",
    "my_state_tomo_set = tomo.state_tomography_set(qubit_set) # default value for meas_basis ='Pauli'.\n",
    "\n",
    "# add the state tomography measurement circuits to the Quantum Program\n",
    "my_state_tomo_circuits = tomo.create_tomography_circuits(my_state, qr, cr, my_state_tomo_set)\n",
    "\n",
    "#Choose the backend\n",
    "#backend_tomo = Aer.get_backend('qasm_simulator') # optional test before final experiment\n",
    "backend_tomo = device # for least busy SQC device\n",
    "\n",
    "# take 1024 shots for each measurement basis\n",
    "# note: reduce this number for larger number of qubits\n",
    "shots = 1024\n",
    "\n",
    "# loop: 27 circuits maximum per job to avoid exceeding the allowed limit for the real device.  \n",
    "n_circ = 3**n\n",
    "i_max = min(27,n_circ)\n",
    "my_jobs = []\n",
    "index_job = -1\n",
    "for i in range(0,n_circ,i_max) :\n",
    "    circs =[]\n",
    "    for j in range(i, i+i_max):\n",
    "        circs.append(my_state_tomo_circuits[j])\n",
    "    if backend_tomo.name() == \"qasm_simulator\" : # optional test before final experiment\n",
    "        mode = \"DNS\"\n",
    "        my_state_job = execute(circs, backend_tomo, \n",
    "                               noise_model=noise_model,\n",
    "                               coupling_map=coupling_map,\n",
    "                               basis_gates=basis_gates)\n",
    "    else: # final experiment on real device\n",
    "        mode = \"SQC\" \n",
    "        my_state_job = execute(circs, backend_tomo, shots=shots)\n",
    "    my_jobs.append(my_state_job)\n",
    "    index_job = index_job + 1 \n",
    "    job_monitor(my_jobs[index_job], monitor_async = True)\n",
    "    \n",
    "    my_state_new_result = my_state_job.result()\n",
    "    if i == 0:\n",
    "        my_state_tomo_result = my_state_new_result\n",
    "    else:\n",
    "        my_state_tomo_result = my_state_tomo_result +  my_state_new_result\n",
    "\n",
    "# extract tomography data from results\n",
    "my_state_tomo_data = tomo.tomography_data(my_state_tomo_result, my_state.name, my_state_tomo_set)\n",
    "\n",
    "# Quantum fidelity\n",
    "\n",
    "# reconstruct experimentally measured density matrix \n",
    "rho_fit = tomo.fit_tomography_data(my_state_tomo_data)\n",
    "\n",
    "# calculate fidelity of fitted state:\n",
    "time_exp = time.strftime('%d/%m/%Y %H:%M:%S')\n",
    "print(\"Date (DMY):\", time_exp)\n",
    "print('Tomography',str(n)+'-qubit classifier on', backend_tomo,\n",
    "      \", shots:\", shots, \", method:\", method, \", mode:\", mode, device, \"theta:\", theta)\n",
    "F_fit = state_fidelity(rho_fit, my_state_psi)\n",
    "print('Fidelity with theoretical ideal state')\n",
    "print('F =', F_fit)"
   ]
  },
  {
   "cell_type": "code",
   "execution_count": 18,
   "metadata": {},
   "outputs": [
    {
     "name": "stdout",
     "output_type": "stream",
     "text": [
      "Date (DMY): 01/02/2019 19:16:32\n",
      "Tomography 4-qubit classifier on ibmqx4 , shots: 1024 , mode: SQC ibmqx4 theta: 2.152\n",
      "Fidelity with theoretical ideal state\n",
      "F = 0.17073221336518524\n"
     ]
    }
   ],
   "source": [
    "print(\"Date (DMY):\", time_exp)\n",
    "print('Tomography',str(n)+'-qubit classifier on', backend_tomo,\n",
    "      \", shots:\", shots,  \", mode:\", mode, device, \"theta:\", theta)\n",
    "F_fit = state_fidelity(rho_fit, my_state_psi)\n",
    "print('Fidelity with theoretical ideal state')\n",
    "print('F =', F_fit)"
   ]
  },
  {
   "cell_type": "markdown",
   "metadata": {},
   "source": [
    "### Comparing DNS to SQC\n",
    "The results mentioned above for the DNS and SQC experiments are illustrated together in the next graphs:"
   ]
  },
  {
   "cell_type": "markdown",
   "metadata": {},
   "source": [
    "Herafter a comparison of the histograms of estimated outcome probabilities obtained during noise-free simulation, DNS and SQC experiments on ibmqx4 using Qiskit 0.7."
   ]
  },
  {
   "cell_type": "code",
   "execution_count": 18,
   "metadata": {},
   "outputs": [
    {
     "data": {
      "image/png": "[encoded data removed]",
      "text/plain": [
       "<Figure size 504x360 with 1 Axes>"
      ]
     },
     "execution_count": 18,
     "metadata": {},
     "output_type": "execute_result"
    }
   ],
   "source": [
    "# DSN vs SQC, count histograms\n",
    "# Shots = 1024\n",
    "count_noisefree = {'011': 252, '000': 347, '001': 150, '010': 275}\n",
    "count_DNS = {'011': 252, '000': 347, '001': 150, '010': 275}\n",
    "count_real = {'011': 215, '000': 358, '001': 230, '010': 221}\n",
    "plot_histogram([count_noisefree, count_DNS, count_real], \n",
    "               title= 'Deterministic classifier, specific algorithm, device: ibmqx4', \n",
    "               color=['purple','cyan', 'orange'], bar_labels=False,\n",
    "               legend = ['Noise free simulation', 'Device noise simulation','Real quantum device']) "
   ]
  },
  {
   "cell_type": "markdown",
   "metadata": {},
   "source": [
    "Hereafter a comparison of the quantum fidelity estimated by state tomography for device noise simulation (DSN) and real device (SQC), using either the specific algorithm or arbitrary  initialization:"
   ]
  },
  {
   "cell_type": "markdown",
   "metadata": {},
   "source": [
    "### Concluding remarks:\n",
    "\n"
   ]
  },
  {
   "cell_type": "markdown",
   "metadata": {},
   "source": [
    "### References:\n",
    "\n",
    "[1] \n",
    "\n",
    "[2] \n",
    "\n",
    "[3] Smolin, J. A., Gambetta, J. M. & Smith, G. (2012). Efficient method for computing the maximum-likelihood quantum state from measurements with additive gaussian noise. Phys. Rev. Lett 108(7). https://link.aps.org/doi/10.1103/PhysRevLett.108.070502"
   ]
  }
 ],
 "metadata": {
  "anaconda-cloud": {},
  "kernelspec": {
   "display_name": "Python 3",
   "language": "python",
   "name": "python3"
  },
  "language_info": {
   "codemirror_mode": {
    "name": "ipython",
    "version": 3
   },
   "file_extension": ".py",
   "mimetype": "text/x-python",
   "name": "python",
   "nbconvert_exporter": "python",
   "pygments_lexer": "ipython3",
   "version": "3.7.1"
  }
 },
 "nbformat": 4,
 "nbformat_minor": 2
}
